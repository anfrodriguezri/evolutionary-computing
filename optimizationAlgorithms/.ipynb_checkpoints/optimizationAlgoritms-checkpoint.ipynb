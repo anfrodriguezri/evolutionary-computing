{
 "cells": [
  {
   "cell_type": "code",
   "execution_count": 82,
   "metadata": {},
   "outputs": [],
   "source": [
    "import math\n",
    "from abc import ABCMeta, abstractmethod\n",
    "import numpy as np\n",
    "\n",
    "PI = math.pi\n",
    "\n",
    "class Function:\n",
    "    __metaclass__ = ABCMeta\n",
    "    \n",
    "    @abstractmethod\n",
    "    def eval(self, X): pass\n",
    "    \n",
    "    \n",
    "    def __init__(self, d, max_iter):\n",
    "        self.d = d\n",
    "        self.max_iter = max_iter\n",
    "    \n",
    "class DiffFunction:\n",
    "    __metaclass__ = ABCMeta\n",
    "    \n",
    "    @abstractmethod\n",
    "    def gradient(self, X): pass\n",
    "\n",
    "class Diff2Function:\n",
    "    __metaclass__ = ABCMeta\n",
    "    \n",
    "    @abstractmethod\n",
    "    def hessian(self, X): pass\n",
    "    \n",
    "    def hessian_det(self, X):\n",
    "        return np.linalg.det(self.hessian(X))\n",
    "\n"
   ]
  },
  {
   "cell_type": "code",
   "execution_count": 83,
   "metadata": {},
   "outputs": [
    {
     "name": "stdout",
     "output_type": "stream",
     "text": [
      "[[ 396.78417604    0.        ]\n",
      " [   0.          396.78417604]]\n",
      "157437.682359\n"
     ]
    }
   ],
   "source": [
    "class RastriginFunction(Function, DiffFunction, Diff2Function):\n",
    "    d = 1\n",
    "    \n",
    "    def eval(self, X):\n",
    "        e = 10 * self.d\n",
    "        \n",
    "        for i in range(self.d):\n",
    "            e += math.pow(X[i], 2) - 10 * math.cos(2 * PI * X[i])\n",
    "        \n",
    "        return e\n",
    "    \n",
    "    def gradient(self, X):\n",
    "        grad = np.zeros(self.d)\n",
    "        for i in range(self.d):\n",
    "            grad[i] = 2 * ( X[i] + 10 * PI * math.sin(2*PI*X[i]) )\n",
    "        \n",
    "        return grad\n",
    "\n",
    "    def hessian(self, X):\n",
    "        hess = np.zeros([self.d, self.d])\n",
    "        \n",
    "        for i in range(self.d):\n",
    "            for j in range(self.d):\n",
    "                if i == j:\n",
    "                    hess[i][j] = 2 * ( 1 + 20 * math.pow(PI,2) * math.cos(2*PI*X[i]) )\n",
    "                                                                                  \n",
    "        return hess\n",
    "        \n",
    "rf = RastriginFunction(2, 1000)\n",
    "rf.eval([0, 0])\n",
    "                      \n",
    "grad = rf.gradient([0, 0])\n",
    "hess = rf.hessian([0, 0])\n",
    "print(hess)\n",
    "hess_det = rf.hessian_det([0, 0])\n",
    "print(hess_det)"
   ]
  },
  {
   "cell_type": "code",
   "execution_count": 84,
   "metadata": {},
   "outputs": [
    {
     "name": "stdout",
     "output_type": "stream",
     "text": [
      "[[ 1.0005 -0.    ]\n",
      " [-0.      0.5005]]\n",
      "0.50075025\n"
     ]
    }
   ],
   "source": [
    "class GriewankFunction(Function, DiffFunction, Diff2Function):\n",
    "    d = 1\n",
    "    \n",
    "    def eval(self, X):\n",
    "        suma = 0\n",
    "        prod = 1\n",
    "        \n",
    "        for i in range(self.d):\n",
    "            suma += math.pow(X[i], 2) / 4000\n",
    "            prod *= math.cos(X[i]/math.sqrt(i+1))\n",
    "            \n",
    "        return suma - prod + 1\n",
    "    \n",
    "    def gradient(self, X):\n",
    "        grad = np.zeros(self.d)\n",
    "        \n",
    "        for i in range(self.d):\n",
    "            prod = 1\n",
    "            for k in range(self.d):\n",
    "                if k != i:\n",
    "                    prod *= math.cos(X[i] / math.sqrt(i+1))\n",
    "                    \n",
    "            grad[i] = (X[i] / 2000) + math.sin(X[i]/math.sqrt(i+1)) * (1/math.sqrt(i+1)) * prod\n",
    "        \n",
    "        return grad\n",
    "\n",
    "    def hessian(self, X):\n",
    "        hess = np.zeros([self.d, self.d])\n",
    "        \n",
    "        for i in range(self.d):\n",
    "            for j in range(self.d):\n",
    "                if i == j:\n",
    "                    prod = 1\n",
    "                    \n",
    "                    for k in range(self.d):\n",
    "                        if k != i:\n",
    "                            prod *= math.cos(X[k]/math.sqrt(k+1))\n",
    "                    \n",
    "                    hess[i][j] = (1/2000) + math.cos(X[i]) * (1/(i+1)) * prod\n",
    "                else:\n",
    "                    prod = 1\n",
    "                    \n",
    "                    for k in range(self.d):\n",
    "                        if k != i and k != j:\n",
    "                            prod *= math.cos(X[k]/math.sqrt(k+1))\n",
    "                            \n",
    "                    hess[i][j] = math.sin(X[i]/math.sqrt(i+1)) * (1/math.sqrt(i+1)) * prod\n",
    "                    hess[i][j] *= -1 * math.sin(X[j]/math.sqrt(j+1)) * (1/math.sqrt(j+1))\n",
    "                                                                                  \n",
    "        return hess\n",
    "    \n",
    "gf = GriewankFunction(2, 1000)\n",
    "gf.eval([0, 0])\n",
    "                      \n",
    "grad = gf.gradient([0, 0])\n",
    "hess = gf.hessian([0, 0])\n",
    "print(hess)\n",
    "hess_det = gf.hessian_det([0, 0])\n",
    "print(hess_det)"
   ]
  },
  {
   "cell_type": "code",
   "execution_count": 85,
   "metadata": {},
   "outputs": [],
   "source": [
    "class SchwefelFunction(Function):\n",
    "    d = 1\n",
    "    \n",
    "    def eval(self, X):\n",
    "        suma = 0\n",
    "        \n",
    "        for i in range(self.d):\n",
    "            suma += X[i] * math.sin(math.sqrt(math.abs(X[i])))\n",
    "        \n",
    "        return 418.9829 * self.d - suma"
   ]
  },
  {
   "cell_type": "code",
   "execution_count": 81,
   "metadata": {},
   "outputs": [
    {
     "ename": "SyntaxError",
     "evalue": "invalid syntax (<ipython-input-81-47ded3113b02>, line 7)",
     "output_type": "error",
     "traceback": [
      "\u001b[0;36m  File \u001b[0;32m\"<ipython-input-81-47ded3113b02>\"\u001b[0;36m, line \u001b[0;32m7\u001b[0m\n\u001b[0;31m    for i in range(f.max_iter)\u001b[0m\n\u001b[0m                              ^\u001b[0m\n\u001b[0;31mSyntaxError\u001b[0m\u001b[0;31m:\u001b[0m invalid syntax\n"
     ]
    }
   ],
   "source": [
    "def newtonRaphson(f, X):\n",
    "    grad = f.gradient(X)\n",
    "    hess_det = f.hessian_det(X)\n",
    "    \n",
    "    Y = np.copy(X)\n",
    "    \n",
    "    for i in range(f.d):\n",
    "        Y[i] += (-grad[i]) / hess_det\n",
    "        \n",
    "    return Y"
   ]
  },
  {
   "cell_type": "code",
   "execution_count": 75,
   "metadata": {},
   "outputs": [
    {
     "data": {
      "text/plain": [
       "range(0, 2)"
      ]
     },
     "execution_count": 75,
     "metadata": {},
     "output_type": "execute_result"
    }
   ],
   "source": [
    "range(2)"
   ]
  },
  {
   "cell_type": "code",
   "execution_count": 76,
   "metadata": {},
   "outputs": [
    {
     "name": "stdout",
     "output_type": "stream",
     "text": [
      "0\n",
      "1\n"
     ]
    }
   ],
   "source": [
    "for x in range(2):\n",
    "    print(x)"
   ]
  },
  {
   "cell_type": "code",
   "execution_count": null,
   "metadata": {},
   "outputs": [],
   "source": []
  }
 ],
 "metadata": {
  "kernelspec": {
   "display_name": "Python 3",
   "language": "python",
   "name": "python3"
  },
  "language_info": {
   "codemirror_mode": {
    "name": "ipython",
    "version": 3
   },
   "file_extension": ".py",
   "mimetype": "text/x-python",
   "name": "python",
   "nbconvert_exporter": "python",
   "pygments_lexer": "ipython3",
   "version": "3.5.2"
  }
 },
 "nbformat": 4,
 "nbformat_minor": 2
}
