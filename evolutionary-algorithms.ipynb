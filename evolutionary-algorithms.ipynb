{
 "cells": [
  {
   "cell_type": "code",
   "execution_count": 1,
   "metadata": {},
   "outputs": [
    {
     "name": "stdout",
     "output_type": "stream",
     "text": [
      "here\n",
      "20\n",
      "[<evolutionary_computing.encoding.Individual object at 0x7ff18c156550>, <evolutionary_computing.encoding.Individual object at 0x7ff18c156dd8>, <evolutionary_computing.encoding.Individual object at 0x7ff16fe27be0>, <evolutionary_computing.encoding.Individual object at 0x7ff16fe27cf8>, <evolutionary_computing.encoding.Individual object at 0x7ff16fe27d30>, <evolutionary_computing.encoding.Individual object at 0x7ff16fe39048>, <evolutionary_computing.encoding.Individual object at 0x7ff16fe39828>, <evolutionary_computing.encoding.Individual object at 0x7ff16fe39908>, <evolutionary_computing.encoding.Individual object at 0x7ff16fe39940>, <evolutionary_computing.encoding.Individual object at 0x7ff16fe399b0>, <evolutionary_computing.encoding.Individual object at 0x7ff16fe39978>, <evolutionary_computing.encoding.Individual object at 0x7ff16fe39a20>, <evolutionary_computing.encoding.Individual object at 0x7ff16fe39b38>, <evolutionary_computing.encoding.Individual object at 0x7ff16fe39ba8>, <evolutionary_computing.encoding.Individual object at 0x7ff16fe39be0>, <evolutionary_computing.encoding.Individual object at 0x7ff16fe39c18>, <evolutionary_computing.encoding.Individual object at 0x7ff16fe39c50>, <evolutionary_computing.encoding.Individual object at 0x7ff16fe39c88>, <evolutionary_computing.encoding.Individual object at 0x7ff16fe39cc0>, <evolutionary_computing.encoding.Individual object at 0x7ff16fe39cf8>]\n"
     ]
    }
   ],
   "source": [
    "import numpy as np\n",
    "\n",
    "import utils.utilities as ut\n",
    "import utils.functions as tf\n",
    "import utils.problems as ps\n",
    "\n",
    "from evolutionary_computing.encoding import * \n",
    "\n",
    "p = Population(20)\n",
    "print(p.N)\n",
    "\n",
    "print(p.individuals)"
   ]
  },
  {
   "cell_type": "code",
   "execution_count": 2,
   "metadata": {},
   "outputs": [
    {
     "name": "stdout",
     "output_type": "stream",
     "text": [
      "<evolutionary_computing.encoding.Individual object at 0x7ff16fe43240>\n",
      "<class 'evolutionary_computing.encoding.Individual'>\n",
      "<class 'type'>\n"
     ]
    }
   ],
   "source": [
    "from importlib import import_module\n",
    "\n",
    "module = import_module('evolutionary_computing.encoding')\n",
    "BarCls = getattr(module, 'Individual')\n",
    "bar = BarCls()\n",
    "\n",
    "print(bar)\n",
    "print(type(bar))\n",
    "print(type(BarCls))\n",
    "\n"
   ]
  }
 ],
 "metadata": {
  "kernelspec": {
   "display_name": "Python 3",
   "language": "python",
   "name": "python3"
  },
  "language_info": {
   "codemirror_mode": {
    "name": "ipython",
    "version": 3
   },
   "file_extension": ".py",
   "mimetype": "text/x-python",
   "name": "python",
   "nbconvert_exporter": "python",
   "pygments_lexer": "ipython3",
   "version": "3.7.1"
  }
 },
 "nbformat": 4,
 "nbformat_minor": 2
}
