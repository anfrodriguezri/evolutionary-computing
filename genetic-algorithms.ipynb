{
 "cells": [
  {
   "cell_type": "code",
   "execution_count": 1,
   "metadata": {
    "scrolled": true
   },
   "outputs": [
    {
     "name": "stdout",
     "output_type": "stream",
     "text": [
      "[\n",
      "0 127.90517639089437, \n",
      "1 58.19064043692111, \n",
      "2 115.22764011942007, \n",
      "3 84.98851933134111, \n",
      "4 112.26655927612137, \n",
      "5 124.94767978268737, \n",
      "6 105.58376390998836, \n",
      "7 64.15785064697667, \n",
      "8 109.96160222482754, \n",
      "9 129.41532572761759]\n",
      "[\n",
      "3 84.98851933134111 \n",
      "6 105.58376390998836]\n"
     ]
    }
   ],
   "source": [
    "import numpy as np\n",
    "\n",
    "import matplotlib.pyplot as plt\n",
    "%matplotlib inline\n",
    "\n",
    "from evolutionary_computing import evolutionary_methods as evolution\n",
    "from evolutionary_computing import selection_operators as selection\n",
    "from evolutionary_computing import functions as fs\n",
    "\n",
    "f = fs.QuadraticFunction(2)\n",
    "selection_meth = selection.RoulleteSelection\n",
    "\n",
    "ga = evolution.GeneticAlgorithm(f, 'RealValuedIndividual', selection_meth, 10, 1)\n",
    "ga.run()"
   ]
  },
  {
   "cell_type": "code",
   "execution_count": 5,
   "metadata": {},
   "outputs": [
    {
     "data": {
      "text/plain": [
       "[-8.452658867103201, -6.822143154410213]"
      ]
     },
     "execution_count": 5,
     "metadata": {},
     "output_type": "execute_result"
    }
   ],
   "source": [
    "i = evolution.RealValuedIndividual(fs.QuadraticFunction(2))\n",
    "i.value"
   ]
  }
 ],
 "metadata": {
  "kernelspec": {
   "display_name": "Python 3",
   "language": "python",
   "name": "python3"
  },
  "language_info": {
   "codemirror_mode": {
    "name": "ipython",
    "version": 3
   },
   "file_extension": ".py",
   "mimetype": "text/x-python",
   "name": "python",
   "nbconvert_exporter": "python",
   "pygments_lexer": "ipython3",
   "version": "3.7.0"
  }
 },
 "nbformat": 4,
 "nbformat_minor": 2
}
