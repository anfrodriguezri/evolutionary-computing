{
 "cells": [
  {
   "cell_type": "code",
   "execution_count": 1,
   "metadata": {
    "scrolled": true
   },
   "outputs": [],
   "source": [
    "import numpy as np\n",
    "\n",
    "import matplotlib.pyplot as plt\n",
    "%matplotlib inline\n",
    "\n",
    "from evolutionary_computing import evolutionary_methods as evolution\n",
    "from evolutionary_computing import selection_operators as selection\n",
    "from evolutionary_computing import functions as fs\n",
    "\n",
    "f = fs.RastriginFunction(2)\n",
    "selection_meth = selection.RoulleteSelection\n",
    "\n",
    "#ga = evolution.GeneticAlgorithm(f, 'RealValuedIndividual', selection_meth, 10, 1)\n",
    "#ga.run()"
   ]
  },
  {
   "cell_type": "code",
   "execution_count": null,
   "metadata": {},
   "outputs": [],
   "source": [
    "ga = evolution.DeterministicCrowding(f, 'RealValuedIndividual', selection_meth, 100, 100)\n",
    "ga.run()"
   ]
  },
  {
   "cell_type": "code",
   "execution_count": null,
   "metadata": {},
   "outputs": [],
   "source": []
  }
 ],
 "metadata": {
  "kernelspec": {
   "display_name": "Python 3",
   "language": "python",
   "name": "python3"
  },
  "language_info": {
   "codemirror_mode": {
    "name": "ipython",
    "version": 3
   },
   "file_extension": ".py",
   "mimetype": "text/x-python",
   "name": "python",
   "nbconvert_exporter": "python",
   "pygments_lexer": "ipython3",
   "version": "3.7.0"
  }
 },
 "nbformat": 4,
 "nbformat_minor": 2
}
