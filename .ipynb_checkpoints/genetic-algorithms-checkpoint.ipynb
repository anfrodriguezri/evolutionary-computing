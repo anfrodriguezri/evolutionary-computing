{
 "cells": [
  {
   "cell_type": "code",
   "execution_count": 1,
   "metadata": {
    "scrolled": true
   },
   "outputs": [
    {
     "name": "stdout",
     "output_type": "stream",
     "text": [
      "[\n",
      "0 111.97506665611786, \n",
      "1 106.37386063331343, \n",
      "2 171.7085717387406, \n",
      "3 138.07696683400752, \n",
      "4 132.50748543285113, \n",
      "5 124.13017136305956, \n",
      "6 133.3794586364695, \n",
      "7 75.23861338069585, \n",
      "8 125.65898890948856, \n",
      "9 109.64070237943187]\n",
      "[\n",
      "9 109.64070237943187 \n",
      "2 171.7085717387406]\n"
     ]
    }
   ],
   "source": [
    "import numpy as np\n",
    "\n",
    "import matplotlib.pyplot as plt\n",
    "%matplotlib inline\n",
    "\n",
    "from evolutionary_computing import evolutionary_methods as evolution\n",
    "from evolutionary_computing import selection_operators as selection\n",
    "from evolutionary_computing import functions as fs\n",
    "\n",
    "f = fs.QuadraticFunction(2)\n",
    "selection_meth = selection.RoulleteSelection\n",
    "\n",
    "ga = evolution.GeneticAlgorithm(f, 'RealValuedIndividual', selection_meth, 10, 1)\n",
    "ga.run()"
   ]
  },
  {
   "cell_type": "code",
   "execution_count": 3,
   "metadata": {},
   "outputs": [
    {
     "ename": "NameError",
     "evalue": "name 'QuadraticFunction' is not defined",
     "output_type": "error",
     "traceback": [
      "\u001b[1;31m---------------------------------------------------------------------------\u001b[0m",
      "\u001b[1;31mNameError\u001b[0m                                 Traceback (most recent call last)",
      "\u001b[1;32m<ipython-input-3-ff588fb311eb>\u001b[0m in \u001b[0;36m<module>\u001b[1;34m()\u001b[0m\n\u001b[1;32m----> 1\u001b[1;33m \u001b[0mevolution\u001b[0m\u001b[1;33m.\u001b[0m\u001b[0mRealValuedIndividual\u001b[0m\u001b[1;33m(\u001b[0m\u001b[0mQuadraticFunction\u001b[0m\u001b[1;33m(\u001b[0m\u001b[1;36m2\u001b[0m\u001b[1;33m)\u001b[0m\u001b[1;33m)\u001b[0m\u001b[1;33m\u001b[0m\u001b[0m\n\u001b[0m",
      "\u001b[1;31mNameError\u001b[0m: name 'QuadraticFunction' is not defined"
     ]
    }
   ],
   "source": [
    "evolution.RealValuedIndividual(fs.QuadraticFunction(2))"
   ]
  },
  {
   "cell_type": "code",
   "execution_count": null,
   "metadata": {},
   "outputs": [],
   "source": []
  }
 ],
 "metadata": {
  "kernelspec": {
   "display_name": "Python 3",
   "language": "python",
   "name": "python3"
  },
  "language_info": {
   "codemirror_mode": {
    "name": "ipython",
    "version": 3
   },
   "file_extension": ".py",
   "mimetype": "text/x-python",
   "name": "python",
   "nbconvert_exporter": "python",
   "pygments_lexer": "ipython3",
   "version": "3.7.0"
  }
 },
 "nbformat": 4,
 "nbformat_minor": 2
}
